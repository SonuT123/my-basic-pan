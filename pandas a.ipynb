{
 "cells": [
  {
   "cell_type": "raw",
   "id": "dac47944-be98-4b98-a988-b47d1092dba8",
   "metadata": {},
   "source": [
    "                                     Assignment  pandas "
   ]
  },
  {
   "cell_type": "raw",
   "id": "d39871a3-b84f-482c-b530-72b15364a1fa",
   "metadata": {},
   "source": [
    "Q1. Create a Pandas Series that contains the following data: 4, 8, 15, 16, 23, and 42. Then, print the series."
   ]
  },
  {
   "cell_type": "code",
   "execution_count": 1,
   "id": "3c962a96-19ca-4528-ba0c-abc28e553e60",
   "metadata": {},
   "outputs": [
    {
     "name": "stdout",
     "output_type": "stream",
     "text": [
      "0     4\n",
      "1     8\n",
      "2    15\n",
      "3    16\n",
      "4    23\n",
      "5    42\n",
      "dtype: int64\n"
     ]
    }
   ],
   "source": [
    "import pandas as pd\n",
    "\n",
    "data = [4, 8, 15, 16, 23, 42]\n",
    "series = pd.Series(data)\n",
    "\n",
    "print(series)"
   ]
  },
  {
   "cell_type": "raw",
   "id": "894c18ba-669e-4908-99c7-0cc86aca4a54",
   "metadata": {},
   "source": [
    "Q2. Create a variable of list type containing 10 elements in it, and apply pandas.Series function on the\n",
    "    variable print it."
   ]
  },
  {
   "cell_type": "code",
   "execution_count": 2,
   "id": "4d04abc6-742c-48a5-8e1c-11501a808c13",
   "metadata": {},
   "outputs": [
    {
     "name": "stdout",
     "output_type": "stream",
     "text": [
      "0     2\n",
      "1     4\n",
      "2     6\n",
      "3     8\n",
      "4    10\n",
      "5    12\n",
      "6    14\n",
      "7    16\n",
      "8    18\n",
      "9    20\n",
      "dtype: int64\n"
     ]
    }
   ],
   "source": [
    "import pandas as pd\n",
    "\n",
    "my_list = [2, 4, 6, 8, 10, 12, 14, 16, 18, 20]\n",
    "series_from_list = pd.Series(my_list)\n",
    "\n",
    "print(series_from_list)"
   ]
  },
  {
   "cell_type": "raw",
   "id": "702f5a24-7cdf-4ffa-ae0e-63b15f91c3f2",
   "metadata": {},
   "source": [
    "Q3. Create a Pandas DataFrame that contains the following data:\n",
    "    Name\n",
    "    Alice\n",
    "    Bob\n",
    "    Claire\n",
    "\n",
    "    age\n",
    "    25\n",
    "    30\n",
    "    27\n",
    "\n",
    "    Gender\n",
    "    Female\n",
    "    Male\n",
    "    Female\n",
    "    \n",
    "    Then, print the DataFrame."
   ]
  },
  {
   "cell_type": "code",
   "execution_count": 3,
   "id": "d26adc37-c7b3-4201-85a3-9029583d73da",
   "metadata": {},
   "outputs": [
    {
     "name": "stdout",
     "output_type": "stream",
     "text": [
      "     Name  Age  Gender\n",
      "0   Alice   25  Female\n",
      "1     Bob   30    Male\n",
      "2  Claire   27  Female\n"
     ]
    }
   ],
   "source": [
    "import pandas as pd\n",
    "\n",
    "data = {\n",
    "    'Name': ['Alice', 'Bob', 'Claire'],\n",
    "    'Age': [25, 30, 27],\n",
    "    'Gender': ['Female', 'Male', 'Female']\n",
    "}\n",
    "\n",
    "df = pd.DataFrame(data)\n",
    "\n",
    "print(df)"
   ]
  },
  {
   "cell_type": "raw",
   "id": "7abd8091-64a3-474c-803b-8571f26586e7",
   "metadata": {},
   "source": [
    "Q4. What is ‘DataFrame’ in pandas and how is it different from pandas.series? Explain with an example."
   ]
  },
  {
   "cell_type": "code",
   "execution_count": 6,
   "id": "e30fe0df-c462-4912-ad95-e1ade46c883f",
   "metadata": {},
   "outputs": [
    {
     "name": "stdout",
     "output_type": "stream",
     "text": [
      "DataFrame:\n",
      "    Name  Age  Gender\n",
      "0  Anita   25  Female\n",
      "1  rajiv   30    Male\n",
      "2   sonu   27  Female\n",
      "\n",
      "Series:\n",
      "0    25\n",
      "1    30\n",
      "2    27\n",
      "Name: Age, dtype: int64\n"
     ]
    },
    {
     "data": {
      "text/plain": [
       "\"   In this example, the DataFrame 'df' contains multiple columns ('Name', 'Age', 'Gender') and represents a tabular structure.\\n  The Series 'ages' contains only the 'Age' column with an associated index, and it represents a single column of data without\\n  the tabular structure. While both Series and DataFrame can be used for data analysis, a DataFrame is typically used\\n  for more complex analyses involving multiple variables and operations, while a Series is useful for one-dimensional\\n  data or when focusing on a single column of a DataFrame \""
      ]
     },
     "execution_count": 6,
     "metadata": {},
     "output_type": "execute_result"
    }
   ],
   "source": [
    "    \"\"\"   A DataFrame in pandas is a two-dimensional tabular data structure with labeled axes.\n",
    "       It is a collection of Series objects, each of which is a one-dimensional array of data.\n",
    "        DataFrames can have multiple columns, and the columns can be of different data types.\n",
    "        \n",
    "        A Series in pandas is a one-dimensional tabular data structure with labeled index.\n",
    "        It is a single column of a DataFrame. Series can only have one column, and the values\n",
    "        in the Series must be of the same data type.  \"\"\"\n",
    "\n",
    "\n",
    "import pandas as pd\n",
    "\n",
    "data = {\n",
    "    'Name': ['Anita', 'rajiv', 'sonu'],\n",
    "    'Age': [25, 30, 27],\n",
    "    'Gender': ['Female', 'Male', 'Female']\n",
    "}\n",
    "\n",
    "df = pd.DataFrame(data)\n",
    "\n",
    "\n",
    "ages = pd.Series([25, 30, 27], name='Age')\n",
    "\n",
    "\n",
    "print(\"DataFrame:\")\n",
    "print(df)\n",
    "print(\"\\nSeries:\")\n",
    "print(ages)\n",
    "       \n",
    "\"\"\"   In this example, the DataFrame 'df' contains multiple columns ('Name', 'Age', 'Gender') and represents a tabular structure.\n",
    "      The Series 'ages' contains only the 'Age' column with an associated index, and it represents a single column of data without\n",
    "      the tabular structure. While both Series and DataFrame can be used for data analysis, a DataFrame is typically used\n",
    "      for more complex analyses involving multiple variables and operations, while a Series is useful for one-dimensional\n",
    "      data or when focusing on a single column of a DataFrame \"\"\"\n",
    "    \n",
    "    "
   ]
  },
  {
   "cell_type": "raw",
   "id": "1b37bcae-a1b1-416e-ba7e-bd0295aa94bb",
   "metadata": {},
   "source": [
    "Q5. What are some common functions you can use to manipulate data in a Pandas DataFrame? Can\n",
    "    you give an example of when you might use one of these functions?"
   ]
  },
  {
   "cell_type": "code",
   "execution_count": 7,
   "id": "bfe0dc29-676a-4a26-a823-f3257087e104",
   "metadata": {},
   "outputs": [
    {
     "name": "stdout",
     "output_type": "stream",
     "text": [
      "Product\n",
      "A    250\n",
      "B    380\n",
      "C    210\n",
      "Name: Sales, dtype: int64\n"
     ]
    }
   ],
   "source": [
    " \"\"\"Filtering and Selection:\n",
    "\n",
    "1.'df[...] 'or' 'df.loc[...]': Select specific rows and columns based on labels or\n",
    "  boolean conditions.\n",
    "  > 'df.iloc[...]': Select rows and columns based on integer positions.\n",
    "2.Sorting:\n",
    "\n",
    "  'df.sort_values()': Sort the DataFrame by specified columns.\n",
    "  'df.sort_index()': Sort the DataFrame by index.\n",
    "3.Aggregation and Grouping:\n",
    "\n",
    "  'df.groupby()': Group data based on one or more columns and apply aggregate\n",
    "    functions.\n",
    "  'df.groupby().agg()': Apply multiple aggregate functions to grouped data.\n",
    "4.Applying Functions:\n",
    "\n",
    "  'df.apply()': Apply a function to rows or columns of the DataFrame.\n",
    "  'df.applymap()': Apply a function element-wise to the entire DataFrame.\n",
    "5.Merging and Joining:\n",
    "\n",
    "  'pd.concat()': Concatenate multiple DataFrames along rows or columns.\n",
    "   'df.merge()': Perform database-style merging/joining of DataFrames.\n",
    "6.Reshaping and Pivoting:\n",
    "\n",
    "  'df.pivot()': Reshape data by specifying columns for rows, columns, and values.\n",
    "  'df.melt()': Unpivot/melt a DataFrame from wide to long format.\n",
    "7.Handling Missing Values:\n",
    "\n",
    "  'df.dropna()': Drop rows or columns with missing values.\n",
    "   'df.fillna()': Fill missing values with specified values or methods.\n",
    "    \n",
    "8.Transforming Data:\n",
    "\n",
    "  'df.transform()': Apply a function to a column and broadcast the result.\n",
    "9.Adding and Deleting Columns:\n",
    "\n",
    "  'df['new_column']' = ...: Add a new column to the DataFrame.\n",
    "   'del df['column_name']': Delete a column from the DataFrame.\n",
    "10.Dropping Duplicates:\n",
    "\n",
    "   'df.drop_duplicates()': Remove duplicate rows based on specified columns.\n",
    "11.String Manipulation:\n",
    "\n",
    "   'df.str.replace()': Replace text in string columns using regular expressions.\n",
    "    'df.str.extract()': Extract substrings from string columns using regular expressions.\n",
    "12.Time Series Operations:\n",
    "\n",
    "    Various functions for time series manipulation like resampling, shifting, rolling mean, etc.\n",
    "    \n",
    "    \n",
    "    Example of using a common function:\n",
    "      Let's say you have a DataFrame 'sales_data' containing sales information and you want to calculate\n",
    "      the total sales for each product category using the 'groupby()' and 'sum()' functions:\"\"\"\n",
    "            \n",
    "            \n",
    "import pandas as pd\n",
    "\n",
    "data = {\n",
    "    'Product': ['A', 'B', 'A', 'C', 'B', 'C'],\n",
    "    'Sales': [100, 200, 150, 120, 180, 90]\n",
    "}\n",
    "\n",
    "sales_data = pd.DataFrame(data)\n",
    "\n",
    "total_sales_by_product = sales_data.groupby('Product')['Sales'].sum()\n",
    "\n",
    "print(total_sales_by_product)"
   ]
  },
  {
   "cell_type": "raw",
   "id": "3057f2db-ed9c-4e4a-a7b4-d2ad5f4376bf",
   "metadata": {},
   "source": [
    "Q6. Which of the following is mutable in nature Series, DataFrame, Panel?"
   ]
  },
  {
   "cell_type": "code",
   "execution_count": 11,
   "id": "ad53f40f-b7c0-4824-bb14-9969a37fb740",
   "metadata": {},
   "outputs": [
    {
     "name": "stdout",
     "output_type": "stream",
     "text": [
      "0    10\n",
      "1     2\n",
      "2     3\n",
      "3     4\n",
      "dtype: int64\n",
      "         Name  Age\n",
      "0    John Doe   40\n",
      "1    Jane Doe   35\n",
      "2  John Smith   50\n"
     ]
    },
    {
     "data": {
      "text/plain": [
       "' This code will create a DataFrame with two columns: Name and Age. The Age column will be changed to the values 40, 35, and 50.'"
      ]
     },
     "execution_count": 11,
     "metadata": {},
     "output_type": "execute_result"
    }
   ],
   "source": [
    "  \"\"\"\n",
    "    >Series is a one-dimensional array-like object that can hold any data type. It is mutable,\n",
    "    >meaning that the values in a Series can be changed after it has been created.\n",
    "    \n",
    "    \n",
    "    >DataFrame is a two-dimensional tabular data structure that can hold any data type. It is also mutable,\n",
    "    >meaning that the values in a DataFrame can be changed after it has been created.\n",
    "    \n",
    "    \n",
    "     >Panel is a three-dimensional tabular data structure that can hold any data type. \n",
    "    >It is not mutable, meaning that the values in a Panel cannot be changed after it has been created.\n",
    "    \n",
    "    \"\"\"\n",
    "    \n",
    "import pandas as pd\n",
    "\n",
    "s = pd.Series([1, 2, 3, 4])\n",
    "\n",
    "s[0] = 10\n",
    "\n",
    "print(s)\n",
    "\n",
    "\n",
    "\"\"\"This code will create a Series with the values 1, 2, 3, and 4. The first value, 1, will be changed to 10.\"\"\"\n",
    "\n",
    "\n",
    "\n",
    "import pandas as pd\n",
    "\n",
    "df = pd.DataFrame({\n",
    "    'Name': ['John Doe', 'Jane Doe', 'John Smith'],\n",
    "    'Age': [30, 25, 40]\n",
    "})\n",
    "\n",
    "df['Age'] = [40, 35, 50]\n",
    "\n",
    "print(df)\n",
    "\n",
    "\"\"\" This code will create a DataFrame with two columns: Name and Age. The Age column will be changed to the values 40, 35, and 50.\"\"\""
   ]
  },
  {
   "cell_type": "raw",
   "id": "82b69c92-2854-4ab1-9751-ab5020293ecc",
   "metadata": {},
   "source": [
    "Q7. Create a DataFrame using multiple Series. Explain with an example."
   ]
  },
  {
   "cell_type": "code",
   "execution_count": 14,
   "id": "9fc5efb4-f276-40f4-96f9-6cfa0f5f028c",
   "metadata": {},
   "outputs": [
    {
     "name": "stdout",
     "output_type": "stream",
     "text": [
      "     Name  Age  Gender\n",
      "0  Anjali   25  Female\n",
      "1   suraj   30    Male\n",
      "2   madhu   27  Female\n"
     ]
    },
    {
     "data": {
      "text/plain": [
       "\" example, we first create three separate Series: names, ages, and genders. \\n    Each Series represents a column of data. Then, we create a dictionary called data \\n    where the keys are the column names and the values are the respective Series.\\n    Finally, we use the pd.DataFrame() function to create a DataFrame by passing the\\n    data dictionary.\\n    \\n    The resulting DataFrame df has three columns: 'Name', 'Age', and 'Gender', and each column \\n         is populated with the data from the corresponding Series. This is a common way to create\\n         a DataFrame using multiple Series, allowing you to organize and manipulate data more effectively.\\n         \\n         \""
      ]
     },
     "execution_count": 14,
     "metadata": {},
     "output_type": "execute_result"
    }
   ],
   "source": [
    "import pandas as pd\n",
    "\n",
    "names = pd.Series(['Anjali', 'suraj', 'madhu'])\n",
    "ages = pd.Series([25, 30, 27])\n",
    "genders = pd.Series(['Female', 'Male', 'Female'])\n",
    "\n",
    "data = {\n",
    "    'Name': names,\n",
    "    'Age': ages,\n",
    "    'Gender': genders\n",
    "}\n",
    "\n",
    "df = pd.DataFrame(data)\n",
    "\n",
    "print(df)\n",
    "\n",
    "\n",
    "\"\"\" example, we first create three separate Series: names, ages, and genders. \n",
    "    Each Series represents a column of data. Then, we create a dictionary called data \n",
    "    where the keys are the column names and the values are the respective Series.\n",
    "    Finally, we use the pd.DataFrame() function to create a DataFrame by passing the\n",
    "    data dictionary.\n",
    "    \n",
    "    The resulting DataFrame df has three columns: 'Name', 'Age', and 'Gender', and each column \n",
    "         is populated with the data from the corresponding Series. This is a common way to create\n",
    "         a DataFrame using multiple Series, allowing you to organize and manipulate data more effectively.\n",
    "         \n",
    "         \"\"\""
   ]
  },
  {
   "cell_type": "code",
   "execution_count": null,
   "id": "e4c61d15-b5fa-408c-ad6d-0fbdb0485db2",
   "metadata": {},
   "outputs": [],
   "source": []
  }
 ],
 "metadata": {
  "kernelspec": {
   "display_name": "Python 3 (ipykernel)",
   "language": "python",
   "name": "python3"
  },
  "language_info": {
   "codemirror_mode": {
    "name": "ipython",
    "version": 3
   },
   "file_extension": ".py",
   "mimetype": "text/x-python",
   "name": "python",
   "nbconvert_exporter": "python",
   "pygments_lexer": "ipython3",
   "version": "3.10.8"
  }
 },
 "nbformat": 4,
 "nbformat_minor": 5
}
